{
 "cells": [
  {
   "cell_type": "markdown",
   "metadata": {},
   "source": [
    "# SETUP"
   ]
  },
  {
   "cell_type": "code",
   "execution_count": 1,
   "metadata": {},
   "outputs": [],
   "source": [
    "#Load packages\n",
    "import pandas as pd\n",
    "import numpy as np\n",
    "\n",
    "from sklearn.metrics import mean_squared_error, r2_score\n",
    "\n",
    "import statsmodels.api as sm\n",
    "\n",
    "from sklearn import datasets\n",
    "from sklearn import linear_model\n",
    "from sklearn.model_selection import train_test_split\n",
    "\n",
    "import seaborn as sns; sns.set()\n",
    "import matplotlib.pyplot as plt\n",
    "%matplotlib inline\n",
    "\n",
    "from pylab import *\n",
    "\n",
    "from sklearn.multioutput import MultiOutputRegressor\n",
    "from sklearn.tree import DecisionTreeRegressor\n",
    "\n",
    "from sklearn.model_selection import cross_val_score\n",
    "from sklearn.ensemble import RandomForestRegressor\n",
    "from sklearn.neural_network import MLPRegressor\n",
    "from sklearn.preprocessing import StandardScaler  \n"
   ]
  },
  {
   "cell_type": "code",
   "execution_count": 2,
   "metadata": {},
   "outputs": [],
   "source": [
    "# Functions \n",
    "def myCols(string, start, end, npoints):\n",
    "    Side = np.linspace(start, end, npoints)\n",
    "    String = string\n",
    "    Cols = []\n",
    "    for index,num in enumerate(Side): \n",
    "        Col= String + str(int(num)) \n",
    "        Cols = [*Cols, Col]\n",
    "    return Cols\n",
    "\n",
    "## This function will plot the true vs. predicted with various line fits\n",
    "def plotSummary(true, predicted, name):\n",
    "    #from pylab import *\n",
    "    #import numpy as np\n",
    "    #import matplotlib.pyplot as plt\n",
    "    \n",
    "    figure()\n",
    "    plt.scatter(true,predicted, alpha = 0.2)\n",
    "    \n",
    "    plt.title(name)\n",
    "    plt.xlabel('True')\n",
    "    plt.ylabel('Predicted')\n",
    "\n",
    "    xmin, xmax = plt.xlim()\n",
    "    plt.plot([xmin,xmax], [xmin,xmax], c='r', linewidth = 2)  #line with slope of one\n",
    "\n",
    "    fit_temp = np.polyfit(true, predicted,1)\n",
    "    xp = np.linspace(xmin, xmax, 100)\n",
    "    p = np.poly1d(fit_temp)\n",
    "    plt.plot(xp, p(xp), '-', color = 'black')\n",
    "    \n",
    "    print(' ')\n",
    "    print('RMSE on test data:', round(np.sqrt(mean_squared_error(true, predicted)),4), 'for ', name)\n",
    "    print('R^2 Score on test data:', round(r2_score(true, predicted), 4), 'for', name)\n",
    "\n",
    "    \n",
    "    return\n",
    "\n",
    "def myResiduals(testY, predictY):\n",
    "    ## residuals 1\n",
    "    i = 0 # resetting i\n",
    "    iterations = len(testY) # gets number of dots/points\n",
    "    residual_sum = 0 # initializes sum of residuals\n",
    "    for i in range (0,iterations): # for every dot/point\n",
    "       ys = testY # get ys of testing data\n",
    "       ys = ys.values # take out indexing, data types, names\n",
    "       y = ys[i]\n",
    "       predict_ys = predictY.values # get ys of all dots/points\n",
    "       predict_y = predict_ys[i] # get the y value of the dot/point at specfic x value i\n",
    "       diff = y - predict_y # find the difference in height\n",
    "       diff = abs(diff) # take the absolute value\n",
    "       residual_sum = diff + residual_sum # add specific residual sum at i to sum of residuals\n",
    "    residual_average = residual_sum/iterations # find the average of the residuals\n",
    "    print('The average residual for predict:', round(residual_average,4)) # display average of residuals\n",
    "\n",
    "    minY = min(ys) # find the minimum y value for testing data\n",
    "    maxY = max(ys) # find the max y value for testing data\n",
    "    minpredict = min(predictY) # find the min y value for the prediction data\n",
    "    maxpredict = max(predictY) # find the max y value for the prediction data\n",
    "    #print('minY', minY, 'maxY', maxY)\n",
    "    #print('minpredict', minpredict, 'maxpredict', maxpredict)\n",
    "    rangeY = minY + maxY # find the range of the testing data\n",
    "    rangepredict = minpredict - maxpredict # find the range of the predictions\n",
    "    #print('rangeY', rangeY)\n",
    "    #print('rangepredict', rangepredict)\n",
    "    residual_percent_rangepredict = (residual_average/abs(rangepredict))*100 # calculate what percent the residual is of the range\n",
    "    print('Residual is this percent of predict range', round(residual_percent_rangepredict,3), '%')\n",
    "    \n",
    "    return\n",
    "    "
   ]
  },
  {
   "cell_type": "code",
   "execution_count": 3,
   "metadata": {},
   "outputs": [],
   "source": [
    "# Create Column Names\n",
    "topCol_names = myCols('Top Point ', 0, 450, 451)\n",
    "bondCol_names = myCols('Bond Point ', 0, 450, 451)\n",
    "delta_names = ['deltaI', 'deltaR']\n",
    "col_names = delta_names + topCol_names + bondCol_names"
   ]
  },
  {
   "cell_type": "code",
   "execution_count": 147,
   "metadata": {},
   "outputs": [
    {
     "data": {
      "text/html": [
       "<div>\n",
       "<style scoped>\n",
       "    .dataframe tbody tr th:only-of-type {\n",
       "        vertical-align: middle;\n",
       "    }\n",
       "\n",
       "    .dataframe tbody tr th {\n",
       "        vertical-align: top;\n",
       "    }\n",
       "\n",
       "    .dataframe thead th {\n",
       "        text-align: right;\n",
       "    }\n",
       "</style>\n",
       "<table border=\"1\" class=\"dataframe\">\n",
       "  <thead>\n",
       "    <tr style=\"text-align: right;\">\n",
       "      <th></th>\n",
       "      <th>deltaI</th>\n",
       "      <th>deltaR</th>\n",
       "      <th>Top Point 0</th>\n",
       "      <th>Top Point 1</th>\n",
       "      <th>Top Point 2</th>\n",
       "      <th>Top Point 3</th>\n",
       "      <th>Top Point 4</th>\n",
       "      <th>Top Point 5</th>\n",
       "      <th>Top Point 6</th>\n",
       "      <th>Top Point 7</th>\n",
       "      <th>...</th>\n",
       "      <th>Bond Point 441</th>\n",
       "      <th>Bond Point 442</th>\n",
       "      <th>Bond Point 443</th>\n",
       "      <th>Bond Point 444</th>\n",
       "      <th>Bond Point 445</th>\n",
       "      <th>Bond Point 446</th>\n",
       "      <th>Bond Point 447</th>\n",
       "      <th>Bond Point 448</th>\n",
       "      <th>Bond Point 449</th>\n",
       "      <th>Bond Point 450</th>\n",
       "    </tr>\n",
       "  </thead>\n",
       "  <tbody>\n",
       "    <tr>\n",
       "      <th>0</th>\n",
       "      <td>-0.29103</td>\n",
       "      <td>0.85577</td>\n",
       "      <td>0.52795</td>\n",
       "      <td>0.53265</td>\n",
       "      <td>0.53778</td>\n",
       "      <td>0.54260</td>\n",
       "      <td>0.54788</td>\n",
       "      <td>0.55260</td>\n",
       "      <td>0.55743</td>\n",
       "      <td>0.56266</td>\n",
       "      <td>...</td>\n",
       "      <td>0.92805</td>\n",
       "      <td>0.92393</td>\n",
       "      <td>0.91974</td>\n",
       "      <td>0.91522</td>\n",
       "      <td>0.91128</td>\n",
       "      <td>0.90731</td>\n",
       "      <td>0.90362</td>\n",
       "      <td>0.90001</td>\n",
       "      <td>0.89697</td>\n",
       "      <td>0.89415</td>\n",
       "    </tr>\n",
       "    <tr>\n",
       "      <th>1</th>\n",
       "      <td>-0.14798</td>\n",
       "      <td>0.67080</td>\n",
       "      <td>0.58404</td>\n",
       "      <td>0.59002</td>\n",
       "      <td>0.59622</td>\n",
       "      <td>0.60201</td>\n",
       "      <td>0.60811</td>\n",
       "      <td>0.61364</td>\n",
       "      <td>0.61911</td>\n",
       "      <td>0.62482</td>\n",
       "      <td>...</td>\n",
       "      <td>0.93021</td>\n",
       "      <td>0.92652</td>\n",
       "      <td>0.92285</td>\n",
       "      <td>0.91894</td>\n",
       "      <td>0.91560</td>\n",
       "      <td>0.91228</td>\n",
       "      <td>0.90926</td>\n",
       "      <td>0.90635</td>\n",
       "      <td>0.90396</td>\n",
       "      <td>0.90180</td>\n",
       "    </tr>\n",
       "    <tr>\n",
       "      <th>2</th>\n",
       "      <td>-1.37130</td>\n",
       "      <td>0.52359</td>\n",
       "      <td>0.32378</td>\n",
       "      <td>0.31895</td>\n",
       "      <td>0.31564</td>\n",
       "      <td>0.31231</td>\n",
       "      <td>0.30992</td>\n",
       "      <td>0.30707</td>\n",
       "      <td>0.30499</td>\n",
       "      <td>0.30387</td>\n",
       "      <td>...</td>\n",
       "      <td>0.93900</td>\n",
       "      <td>0.93652</td>\n",
       "      <td>0.93309</td>\n",
       "      <td>0.92830</td>\n",
       "      <td>0.92359</td>\n",
       "      <td>0.91790</td>\n",
       "      <td>0.91174</td>\n",
       "      <td>0.90474</td>\n",
       "      <td>0.89802</td>\n",
       "      <td>0.89092</td>\n",
       "    </tr>\n",
       "    <tr>\n",
       "      <th>3</th>\n",
       "      <td>-0.13607</td>\n",
       "      <td>0.29882</td>\n",
       "      <td>0.73234</td>\n",
       "      <td>0.74244</td>\n",
       "      <td>0.75234</td>\n",
       "      <td>0.76157</td>\n",
       "      <td>0.77068</td>\n",
       "      <td>0.77912</td>\n",
       "      <td>0.78713</td>\n",
       "      <td>0.79506</td>\n",
       "      <td>...</td>\n",
       "      <td>0.95216</td>\n",
       "      <td>0.94967</td>\n",
       "      <td>0.94738</td>\n",
       "      <td>0.94509</td>\n",
       "      <td>0.94330</td>\n",
       "      <td>0.94171</td>\n",
       "      <td>0.94044</td>\n",
       "      <td>0.93937</td>\n",
       "      <td>0.93876</td>\n",
       "      <td>0.93842</td>\n",
       "    </tr>\n",
       "    <tr>\n",
       "      <th>4</th>\n",
       "      <td>-0.57749</td>\n",
       "      <td>0.70397</td>\n",
       "      <td>0.45494</td>\n",
       "      <td>0.46095</td>\n",
       "      <td>0.46773</td>\n",
       "      <td>0.47429</td>\n",
       "      <td>0.48146</td>\n",
       "      <td>0.48809</td>\n",
       "      <td>0.49501</td>\n",
       "      <td>0.50251</td>\n",
       "      <td>...</td>\n",
       "      <td>0.93663</td>\n",
       "      <td>0.93119</td>\n",
       "      <td>0.92569</td>\n",
       "      <td>0.91987</td>\n",
       "      <td>0.91473</td>\n",
       "      <td>0.90965</td>\n",
       "      <td>0.90496</td>\n",
       "      <td>0.90044</td>\n",
       "      <td>0.89663</td>\n",
       "      <td>0.89313</td>\n",
       "    </tr>\n",
       "  </tbody>\n",
       "</table>\n",
       "<p>5 rows × 904 columns</p>\n",
       "</div>"
      ],
      "text/plain": [
       "    deltaI   deltaR  Top Point 0  Top Point 1  Top Point 2  Top Point 3  \\\n",
       "0 -0.29103  0.85577      0.52795      0.53265      0.53778      0.54260   \n",
       "1 -0.14798  0.67080      0.58404      0.59002      0.59622      0.60201   \n",
       "2 -1.37130  0.52359      0.32378      0.31895      0.31564      0.31231   \n",
       "3 -0.13607  0.29882      0.73234      0.74244      0.75234      0.76157   \n",
       "4 -0.57749  0.70397      0.45494      0.46095      0.46773      0.47429   \n",
       "\n",
       "   Top Point 4  Top Point 5  Top Point 6  Top Point 7       ...        \\\n",
       "0      0.54788      0.55260      0.55743      0.56266       ...         \n",
       "1      0.60811      0.61364      0.61911      0.62482       ...         \n",
       "2      0.30992      0.30707      0.30499      0.30387       ...         \n",
       "3      0.77068      0.77912      0.78713      0.79506       ...         \n",
       "4      0.48146      0.48809      0.49501      0.50251       ...         \n",
       "\n",
       "   Bond Point 441  Bond Point 442  Bond Point 443  Bond Point 444  \\\n",
       "0         0.92805         0.92393         0.91974         0.91522   \n",
       "1         0.93021         0.92652         0.92285         0.91894   \n",
       "2         0.93900         0.93652         0.93309         0.92830   \n",
       "3         0.95216         0.94967         0.94738         0.94509   \n",
       "4         0.93663         0.93119         0.92569         0.91987   \n",
       "\n",
       "   Bond Point 445  Bond Point 446  Bond Point 447  Bond Point 448  \\\n",
       "0         0.91128         0.90731         0.90362         0.90001   \n",
       "1         0.91560         0.91228         0.90926         0.90635   \n",
       "2         0.92359         0.91790         0.91174         0.90474   \n",
       "3         0.94330         0.94171         0.94044         0.93937   \n",
       "4         0.91473         0.90965         0.90496         0.90044   \n",
       "\n",
       "   Bond Point 449  Bond Point 450  \n",
       "0         0.89697         0.89415  \n",
       "1         0.90396         0.90180  \n",
       "2         0.89802         0.89092  \n",
       "3         0.93876         0.93842  \n",
       "4         0.89663         0.89313  \n",
       "\n",
       "[5 rows x 904 columns]"
      ]
     },
     "execution_count": 147,
     "metadata": {},
     "output_type": "execute_result"
    }
   ],
   "source": [
    "#Load Training Data\n",
    "data = pd.read_csv('Training_Data/Graphene/ES_AG_Spec_data.csv', header = None, names = col_names) # read the data in \n",
    "data.head() # show the data in notebook "
   ]
  },
  {
   "cell_type": "code",
   "execution_count": 5,
   "metadata": {},
   "outputs": [],
   "source": [
    "# Splitting Data into Training and Testing \n",
    "points = data.drop(['deltaI', 'deltaR'], axis = 1) \n",
    "deltas = data[['deltaI', 'deltaR']]\n",
    "\n",
    "testSize = 0.3\n",
    "randState = 42\n",
    "\n",
    "points_train, points_test, deltas_train, deltas_test = train_test_split(points, deltas, test_size = testSize, random_state = randState)"
   ]
  },
  {
   "cell_type": "markdown",
   "metadata": {},
   "source": [
    "# TRAINING MODELS"
   ]
  },
  {
   "cell_type": "markdown",
   "metadata": {},
   "source": [
    "Decision Tree"
   ]
  },
  {
   "cell_type": "code",
   "execution_count": 6,
   "metadata": {},
   "outputs": [],
   "source": [
    "#Initialize Model\n",
    "regr_DT = DecisionTreeRegressor(max_depth=30, min_samples_leaf = 2)\n",
    "\n",
    "#Fit Model\n",
    "regr_DT.fit(points_train, deltas_train)\n",
    "\n",
    "#Use model to predict\n",
    "deltas_pred_DT = regr_DT.predict(points_test)"
   ]
  },
  {
   "cell_type": "code",
   "execution_count": 7,
   "metadata": {},
   "outputs": [
    {
     "name": "stdout",
     "output_type": "stream",
     "text": [
      " \n",
      "RMSE on test data: 0.0247 for  deltaI Depth 30\n",
      "R^2 Score on test data: 0.9969 for deltaI Depth 30\n",
      " \n",
      "RMSE on test data: 0.0227 for  deltaR Depth 30\n",
      "R^2 Score on test data: 0.9942 for deltaR Depth 30\n"
     ]
    },
    {
     "data": {
      "image/png": "[encoded data removed]",
      "text/plain": [
       "<Figure size 432x288 with 1 Axes>"
      ]
     },
     "metadata": {},
     "output_type": "display_data"
    },
    {
     "data": {
      "image/png": "[encoded data removed]",
      "text/plain": [
       "<Figure size 432x288 with 1 Axes>"
      ]
     },
     "metadata": {},
     "output_type": "display_data"
    }
   ],
   "source": [
    "#Plot results\n",
    "plotSummary(deltas_test['deltaI'], deltas_pred_DT[:,0], 'deltaI Depth 30')\n",
    "plotSummary(deltas_test['deltaR'], deltas_pred_DT[:,1], 'deltaR Depth 30')"
   ]
  },
  {
   "cell_type": "code",
   "execution_count": 8,
   "metadata": {},
   "outputs": [
    {
     "name": "stdout",
     "output_type": "stream",
     "text": [
      "                Coefficients \n",
      "Top Point 50         0.038433\n",
      "Top Point 57         0.006100\n",
      "Top Point 75         0.009646\n",
      "Top Point 100        0.009068\n",
      "Top Point 170        0.002299\n",
      "Top Point 228        0.003318\n",
      "Top Point 235        0.102371\n",
      "Top Point 314        0.005883\n",
      "Top Point 332        0.001274\n",
      "Top Point 352        0.033179\n",
      "Top Point 354        0.001221\n",
      "Top Point 360        0.002166\n",
      "Top Point 362        0.002670\n",
      "Top Point 406        0.002080\n",
      "Top Point 446        0.532841\n",
      "Bond Point 0         0.035643\n",
      "Bond Point 18        0.014046\n",
      "Bond Point 62        0.001160\n",
      "Bond Point 68        0.001986\n",
      "Bond Point 100       0.006254\n",
      "Bond Point 103       0.001938\n",
      "Bond Point 162       0.008480\n",
      "Bond Point 179       0.026942\n",
      "Bond Point 231       0.110390\n",
      "Bond Point 262       0.001972\n",
      "Bond Point 328       0.001756\n",
      "Bond Point 329       0.002532\n",
      "Bond Point 359       0.001686\n",
      "Bond Point 377       0.002671\n",
      "Bond Point 410       0.002221\n",
      "Bond Point 449       0.001636\n"
     ]
    }
   ],
   "source": [
    "#Print Coefficients/Importances\n",
    "data = pd.DataFrame(regr_DT.feature_importances_.T, columns = ['Coefficients ']) \n",
    "data.index = points_train.columns\n",
    "print(data[data['Coefficients ']>0.001])"
   ]
  },
  {
   "cell_type": "code",
   "execution_count": 9,
   "metadata": {},
   "outputs": [
    {
     "name": "stdout",
     "output_type": "stream",
     "text": [
      "Regression - Decision Tree -  Score:  0.9961 , using max depth of 30\n",
      " \n",
      "Cross Validation Scores for regressor with max depth of  30  :  [0.9956443  0.99526106 0.99567989 0.99531576 0.99506895 0.99545659\n",
      " 0.99518424 0.99537331 0.99526284 0.9954314 ]\n"
     ]
    }
   ],
   "source": [
    "#Trying to understand the scoring\n",
    "print('Regression - Decision Tree -  Score: ', round(regr_DT.score(points_test,deltas_test), 4),', using max depth of 30')\n",
    "print(' ')\n",
    "regressor = DecisionTreeRegressor(random_state=0,max_depth=30, min_samples_leaf=5)\n",
    "print( 'Cross Validation Scores for regressor with max depth of ', regressor.max_depth, ' : ', cross_val_score(regressor, points, deltas, cv=10))"
   ]
  },
  {
   "cell_type": "markdown",
   "metadata": {},
   "source": [
    "Random Forest"
   ]
  },
  {
   "cell_type": "code",
   "execution_count": 10,
   "metadata": {},
   "outputs": [],
   "source": [
    "# Initialize Model \n",
    "randState = 42\n",
    "regr_RF = RandomForestRegressor(max_depth = 15, n_estimators = 15, random_state=randState)\n",
    "\n",
    "# Fit Model \n",
    "model_RF = regr_RF.fit(points_train, deltas_train)\n",
    "\n",
    "# Use Model to Predict \n",
    "predict_RF = model_RF.predict(points_test)\n",
    "\n",
    "# Find Importances\n",
    "importance_RF_10 = pd.Series(model_RF.feature_importances_, index = points_train.columns)\n"
   ]
  },
  {
   "cell_type": "code",
   "execution_count": 11,
   "metadata": {},
   "outputs": [
    {
     "name": "stdout",
     "output_type": "stream",
     "text": [
      " \n",
      "RMSE on test data: 0.0097 for  deltaI 15x15\n",
      "R^2 Score on test data: 0.9995 for deltaI 15x15\n",
      " \n",
      "RMSE on test data: 0.0104 for  deltaR 15x15\n",
      "R^2 Score on test data: 0.9988 for deltaR 15x15\n",
      "\n",
      " Score - Random Forest: 0.9993 for delta I/R 15x15\n"
     ]
    },
    {
     "data": {
      "image/png": "[encoded data removed]",
      "text/plain": [
       "<Figure size 432x288 with 1 Axes>"
      ]
     },
     "metadata": {},
     "output_type": "display_data"
    },
    {
     "data": {
      "image/png": "[encoded data removed]",
      "text/plain": [
       "<Figure size 432x288 with 1 Axes>"
      ]
     },
     "metadata": {},
     "output_type": "display_data"
    }
   ],
   "source": [
    "# Plot Results \n",
    "plotSummary(deltas_test['deltaI'], predict_RF[:,0], 'deltaI 15x15')\n",
    "plotSummary(deltas_test['deltaR'], predict_RF[:,1], 'deltaR 15x15')\n",
    "\n",
    "print('\\n Score - Random Forest:' , round(model_RF.score(points_test, deltas_test),4), 'for delta I/R 15x15')"
   ]
  },
  {
   "cell_type": "markdown",
   "metadata": {},
   "source": [
    "# TESTING WITH EXPERIMENTAL DATA"
   ]
  },
  {
   "cell_type": "code",
   "execution_count": 148,
   "metadata": {},
   "outputs": [
    {
     "data": {
      "text/html": [
       "<div>\n",
       "<style scoped>\n",
       "    .dataframe tbody tr th:only-of-type {\n",
       "        vertical-align: middle;\n",
       "    }\n",
       "\n",
       "    .dataframe tbody tr th {\n",
       "        vertical-align: top;\n",
       "    }\n",
       "\n",
       "    .dataframe thead th {\n",
       "        text-align: right;\n",
       "    }\n",
       "</style>\n",
       "<table border=\"1\" class=\"dataframe\">\n",
       "  <thead>\n",
       "    <tr style=\"text-align: right;\">\n",
       "      <th></th>\n",
       "      <th>deltaI</th>\n",
       "      <th>deltaR</th>\n",
       "      <th>Top Point 0</th>\n",
       "      <th>Top Point 1</th>\n",
       "      <th>Top Point 2</th>\n",
       "      <th>Top Point 3</th>\n",
       "      <th>Top Point 4</th>\n",
       "      <th>Top Point 5</th>\n",
       "      <th>Top Point 6</th>\n",
       "      <th>Top Point 7</th>\n",
       "      <th>...</th>\n",
       "      <th>Bond Point 441</th>\n",
       "      <th>Bond Point 442</th>\n",
       "      <th>Bond Point 443</th>\n",
       "      <th>Bond Point 444</th>\n",
       "      <th>Bond Point 445</th>\n",
       "      <th>Bond Point 446</th>\n",
       "      <th>Bond Point 447</th>\n",
       "      <th>Bond Point 448</th>\n",
       "      <th>Bond Point 449</th>\n",
       "      <th>Bond Point 450</th>\n",
       "    </tr>\n",
       "  </thead>\n",
       "  <tbody>\n",
       "    <tr>\n",
       "      <th>0</th>\n",
       "      <td>0.1</td>\n",
       "      <td>0.1</td>\n",
       "      <td>0.74095</td>\n",
       "      <td>1.0937</td>\n",
       "      <td>0.98544</td>\n",
       "      <td>1.0485</td>\n",
       "      <td>1.0155</td>\n",
       "      <td>1.0431</td>\n",
       "      <td>1.0318</td>\n",
       "      <td>1.0431</td>\n",
       "      <td>...</td>\n",
       "      <td>1.0368</td>\n",
       "      <td>1.0407</td>\n",
       "      <td>1.0411</td>\n",
       "      <td>1.0484</td>\n",
       "      <td>1.0385</td>\n",
       "      <td>1.0555</td>\n",
       "      <td>1.0324</td>\n",
       "      <td>1.072</td>\n",
       "      <td>1.0134</td>\n",
       "      <td>1.128</td>\n",
       "    </tr>\n",
       "  </tbody>\n",
       "</table>\n",
       "<p>1 rows × 904 columns</p>\n",
       "</div>"
      ],
      "text/plain": [
       "   deltaI  deltaR  Top Point 0  Top Point 1  Top Point 2  Top Point 3  \\\n",
       "0     0.1     0.1      0.74095       1.0937      0.98544       1.0485   \n",
       "\n",
       "   Top Point 4  Top Point 5  Top Point 6  Top Point 7       ...        \\\n",
       "0       1.0155       1.0431       1.0318       1.0431       ...         \n",
       "\n",
       "   Bond Point 441  Bond Point 442  Bond Point 443  Bond Point 444  \\\n",
       "0          1.0368          1.0407          1.0411          1.0484   \n",
       "\n",
       "   Bond Point 445  Bond Point 446  Bond Point 447  Bond Point 448  \\\n",
       "0          1.0385          1.0555          1.0324           1.072   \n",
       "\n",
       "   Bond Point 449  Bond Point 450  \n",
       "0          1.0134           1.128  \n",
       "\n",
       "[1 rows x 904 columns]"
      ]
     },
     "execution_count": 148,
     "metadata": {},
     "output_type": "execute_result"
    }
   ],
   "source": [
    "#Load Experimental Data\n",
    "data_exp = pd.read_csv('Training_Data/Graphene/ES_AG_Exp_data.csv', header = None, names = col_names) # read the data in \n",
    "data_exp.head() # show the data in notebook "
   ]
  },
  {
   "cell_type": "code",
   "execution_count": 13,
   "metadata": {},
   "outputs": [],
   "source": [
    "# Splitting Data into points and deltas\n",
    "points_exp = data_exp.drop(['deltaI', 'deltaR'], axis = 1) \n",
    "deltas_exp = data_exp[['deltaI', 'deltaR']]\n"
   ]
  },
  {
   "cell_type": "code",
   "execution_count": 14,
   "metadata": {},
   "outputs": [],
   "source": [
    "#Use Decision Tree model to predict\n",
    "deltas_pred_DT_exp = regr_DT.predict(points_exp)"
   ]
  },
  {
   "cell_type": "code",
   "execution_count": 15,
   "metadata": {},
   "outputs": [
    {
     "name": "stdout",
     "output_type": "stream",
     "text": [
      "[[-0.156145  0.31706 ]]\n"
     ]
    }
   ],
   "source": [
    "# Print Deltas \n",
    "print(deltas_pred_DT_exp)"
   ]
  },
  {
   "cell_type": "code",
   "execution_count": 16,
   "metadata": {},
   "outputs": [],
   "source": [
    "# Use Random Forest model to predict\n",
    "predict_RF_exp = model_RF.predict(points_exp)"
   ]
  },
  {
   "cell_type": "code",
   "execution_count": 17,
   "metadata": {},
   "outputs": [
    {
     "name": "stdout",
     "output_type": "stream",
     "text": [
      "[[-0.11630681  0.20520943]]\n"
     ]
    }
   ],
   "source": [
    "# Print Deltas \n",
    "print(predict_RF_exp)"
   ]
  },
  {
   "cell_type": "code",
   "execution_count": null,
   "metadata": {},
   "outputs": [],
   "source": []
  }
 ],
 "metadata": {
  "kernelspec": {
   "display_name": "Python 3",
   "language": "python",
   "name": "python3"
  },
  "language_info": {
   "codemirror_mode": {
    "name": "ipython",
    "version": 3
   },
   "file_extension": ".py",
   "mimetype": "text/x-python",
   "name": "python",
   "nbconvert_exporter": "python",
   "pygments_lexer": "ipython3",
   "version": "3.6.5"
  }
 },
 "nbformat": 4,
 "nbformat_minor": 2
}
