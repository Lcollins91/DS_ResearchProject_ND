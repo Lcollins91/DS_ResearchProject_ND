{
 "cells": [
  {
   "cell_type": "code",
   "execution_count": 90,
   "metadata": {},
   "outputs": [],
   "source": [
    "import pandas as pd\n",
    "import re\n",
    "\n",
    "hexdata = pd.read_csv('hexagon.ngef', skiprows = 5, header = None)"
   ]
  },
  {
   "cell_type": "code",
   "execution_count": 91,
   "metadata": {},
   "outputs": [],
   "source": [
    "hexdata['X'] = hexdata[0].str.split('=').replace('n', '', regex=False)\n",
    "hexdata['Y'] = hexdata[1]\n",
    "for i in range(0,len(hexdata)):\n",
    "    hexdata['X'][i] = hexdata['X'][i][1]\n",
    "    hexdata['X'][i] = hexdata['X'][i].split('n')[0]\n",
    "    hexdata['Y'][i] = hexdata['Y'][i].split('n')[0]\n"
   ]
  },
  {
   "cell_type": "code",
   "execution_count": 92,
   "metadata": {},
   "outputs": [],
   "source": [
    "hexdata = hexdata.drop([0,1], axis = 1)"
   ]
  },
  {
   "cell_type": "code",
   "execution_count": 98,
   "metadata": {},
   "outputs": [],
   "source": [
    "hexdata.to_csv('NewHexagonNGEFPoints.csv')"
   ]
  },
  {
   "cell_type": "code",
   "execution_count": null,
   "metadata": {},
   "outputs": [],
   "source": []
  }
 ],
 "metadata": {
  "kernelspec": {
   "display_name": "Python 3",
   "language": "python",
   "name": "python3"
  },
  "language_info": {
   "codemirror_mode": {
    "name": "ipython",
    "version": 3
   },
   "file_extension": ".py",
   "mimetype": "text/x-python",
   "name": "python",
   "nbconvert_exporter": "python",
   "pygments_lexer": "ipython3",
   "version": "3.6.5"
  }
 },
 "nbformat": 4,
 "nbformat_minor": 2
}
